{
 "cells": [
  {
   "cell_type": "code",
   "execution_count": 2,
   "id": "f0136d5c-1b97-49f4-8a4a-debe7ca8c8b2",
   "metadata": {
    "tags": []
   },
   "outputs": [
    {
     "name": "stdout",
     "output_type": "stream",
     "text": [
      "10.0 12\n"
     ]
    },
    {
     "ename": "NameError",
     "evalue": "name 'loglog' is not defined",
     "output_type": "error",
     "traceback": [
      "\u001b[1;31m---------------------------------------------------------------------------\u001b[0m",
      "\u001b[1;31mNameError\u001b[0m                                 Traceback (most recent call last)",
      "Cell \u001b[1;32mIn[2], line 47\u001b[0m\n\u001b[0;32m     43\u001b[0m spectrum \u001b[38;5;241m=\u001b[39m wave\u001b[38;5;241m.\u001b[39mmake_spectrum()\n\u001b[0;32m     44\u001b[0m spectrum\u001b[38;5;241m.\u001b[39mplot_power()\n\u001b[0;32m     45\u001b[0m decorate(xlabel\u001b[38;5;241m=\u001b[39m\u001b[38;5;124m'\u001b[39m\u001b[38;5;124mFrequency (Hz)\u001b[39m\u001b[38;5;124m'\u001b[39m,\n\u001b[0;32m     46\u001b[0m          ylabel\u001b[38;5;241m=\u001b[39m\u001b[38;5;124m'\u001b[39m\u001b[38;5;124mPower\u001b[39m\u001b[38;5;124m'\u001b[39m,\n\u001b[1;32m---> 47\u001b[0m          \u001b[38;5;241m*\u001b[39m\u001b[38;5;241m*\u001b[39mloglog)\n\u001b[0;32m     49\u001b[0m spectrum\u001b[38;5;241m.\u001b[39mestimate_slope()\u001b[38;5;241m.\u001b[39mslope\n\u001b[0;32m     51\u001b[0m amp \u001b[38;5;241m=\u001b[39m \u001b[38;5;241m1\u001b[39m\n",
      "\u001b[1;31mNameError\u001b[0m: name 'loglog' is not defined"
     ]
    },
    {
     "data": {
      "image/png": "[encoded data removed]",
      "text/plain": [
       "<Figure size 640x480 with 1 Axes>"
      ]
     },
     "metadata": {},
     "output_type": "display_data"
    }
   ],
   "source": [
    "\n",
    "import os\n",
    "\n",
    "if not os.path.exists('thinkdsp.py'):\n",
    "    !wget https://github.com/AllenDowney/ThinkDSP/raw/master/code/thinkdsp.py\n",
    "    \n",
    "import numpy as np\n",
    "import matplotlib.pyplot as plt\n",
    "\n",
    "from thinkdsp import decorate    \n",
    "\n",
    "\n",
    "\n",
    "from thinkdsp import Noise\n",
    "\n",
    "class UncorrelatedPoissonNoise(Noise):\n",
    "    \"\"\"Represents uncorrelated Poisson noise.\"\"\"\n",
    "\n",
    "    def evaluate(self, ts):\n",
    "        \"\"\"Evaluates the signal at the given times.\n",
    "\n",
    "        ts: float array of times\n",
    "        \n",
    "        returns: float wave array\n",
    "        \"\"\"\n",
    "        ys = np.random.poisson(self.amp, len(ts))\n",
    "        return ys\n",
    "    \n",
    "\n",
    "amp = 0.001\n",
    "framerate = 10000\n",
    "duration = 1\n",
    "\n",
    "signal = UncorrelatedPoissonNoise(amp=amp)\n",
    "wave = signal.make_wave(duration=duration, framerate=framerate)\n",
    "wave.make_audio()\n",
    "\n",
    "expected = amp * framerate * duration\n",
    "actual = sum(wave.ys)\n",
    "print(expected, actual)\n",
    "\n",
    "wave.plot()\n",
    "\n",
    "spectrum = wave.make_spectrum()\n",
    "spectrum.plot_power()\n",
    "decorate(xlabel='Frequency (Hz)',\n",
    "         ylabel='Power',\n",
    "         **loglog)\n",
    "\n",
    "spectrum.estimate_slope().slope\n",
    "\n",
    "amp = 1\n",
    "framerate = 10000\n",
    "duration = 1\n",
    "\n",
    "signal = UncorrelatedPoissonNoise(amp=amp)\n",
    "wave = signal.make_wave(duration=duration, framerate=framerate)\n",
    "wave.make_audio()\n",
    "\n",
    "wave.plot()\n",
    "\n",
    "import matplotlib.pyplot as plt\n",
    "\n",
    "def normal_prob_plot(sample, fit_color='0.8', **options):\n",
    "    \"\"\"Makes a normal probability plot with a fitted line.\n",
    "\n",
    "    sample: sequence of numbers\n",
    "    fit_color: color string for the fitted line\n",
    "    options: passed along to Plot\n",
    "    \"\"\"\n",
    "    n = len(sample)\n",
    "    xs = np.random.normal(0, 1, n)\n",
    "    xs.sort()\n",
    "    \n",
    "    ys = np.sort(sample)\n",
    "    \n",
    "    mean, std = np.mean(sample), np.std(sample)\n",
    "    fit_ys = mean + std * xs\n",
    "    plt.plot(xs, fit_ys, color='gray', alpha=0.5, label='model')\n",
    "\n",
    "    plt.plot(xs, ys, **options)\n",
    "    \n",
    "spectrum = wave.make_spectrum()\n",
    "spectrum.hs[0] = 0\n",
    "\n",
    "normal_prob_plot(spectrum.real, label='real')\n",
    "decorate(xlabel='Normal sample',\n",
    "        ylabel='Power')\n",
    "\n",
    "normal_prob_plot(spectrum.imag, label='imag', color='C1')\n",
    "decorate(xlabel='Normal sample')"
   ]
  },
  {
   "cell_type": "code",
   "execution_count": null,
   "id": "a1bc9f74-e671-4ab6-83d5-65e52137513d",
   "metadata": {},
   "outputs": [],
   "source": []
  }
 ],
 "metadata": {
  "kernelspec": {
   "display_name": "Python 3 (ipykernel)",
   "language": "python",
   "name": "python3"
  },
  "language_info": {
   "codemirror_mode": {
    "name": "ipython",
    "version": 3
   },
   "file_extension": ".py",
   "mimetype": "text/x-python",
   "name": "python",
   "nbconvert_exporter": "python",
   "pygments_lexer": "ipython3",
   "version": "3.11.4"
  }
 },
 "nbformat": 4,
 "nbformat_minor": 5
}
